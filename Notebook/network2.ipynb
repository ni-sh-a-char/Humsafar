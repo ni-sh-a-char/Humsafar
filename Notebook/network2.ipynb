{
 "cells": [
  {
   "cell_type": "code",
   "execution_count": null,
   "metadata": {},
   "outputs": [],
   "source": [
    "import pickle\n",
    "from sklearn.ensemble import RandomForestClassifier, GradientBoostingClassifier\n",
    "from sklearn.svm import SVC\n",
    "\n",
    "# Train your machine learning models\n",
    "rf_model = RandomForestClassifier()\n",
    "gb_model = GradientBoostingClassifier()\n",
    "svm_model = SVC()\n",
    "\n",
    "rf_model.fit(X_train, y_train)\n",
    "gb_model.fit(X_train, y_train)\n",
    "svm_model.fit(X_train, y_train)\n",
    "\n",
    "# Save the trained models to separate Pickle files\n",
    "with open(\"models.pkl\", \"wb\") as models_file:\n",
    "    pickle.dump({\n",
    "        \"Random Forest\": rf_model,\n",
    "        \"Gradient Boosting\": gb_model,\n",
    "        \"SVM\": svm_model\n",
    "    }, models_file)\n"
   ]
  },
  {
   "cell_type": "code",
   "execution_count": null,
   "metadata": {},
   "outputs": [],
   "source": [
    "import pickle\n",
    "\n",
    "# Load the individual model Pickle files\n",
    "with open(\"rf_model.pkl\", \"rb\") as rf_file:\n",
    "    rf_model = pickle.load(rf_file)\n",
    "\n",
    "with open(\"gb_model.pkl\", \"rb\") as gb_file:\n",
    "    gb_model = pickle.load(gb_file)\n",
    "\n",
    "with open(\"svm_model.pkl\", \"rb\") as svm_file:\n",
    "    svm_model = pickle.load(svm_file)\n",
    "\n",
    "# Consolidate the models into a single dictionary\n",
    "consolidated_models = {\n",
    "    \"Random Forest\": rf_model,\n",
    "    \"Gradient Boosting\": gb_model,\n",
    "    \"SVM\": svm_model\n",
    "}\n",
    "\n",
    "# Save the consolidated models to a single Pickle file\n",
    "with open(\"consolidated_models.pkl\", \"wb\") as consolidated_file:\n",
    "    pickle.dump(consolidated_models, consolidated_file)\n"
   ]
  }
 ],
 "metadata": {
  "language_info": {
   "name": "python"
  },
  "orig_nbformat": 4
 },
 "nbformat": 4,
 "nbformat_minor": 2
}
